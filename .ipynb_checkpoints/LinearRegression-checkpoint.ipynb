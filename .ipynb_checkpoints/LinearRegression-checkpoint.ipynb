{
 "cells": [
  {
   "cell_type": "code",
   "execution_count": 1,
   "metadata": {},
   "outputs": [],
   "source": [
    "# Import required libaries\n",
    "\n",
    "# For mathmetical calculations\n",
    "import numpy as np\n",
    "\n",
    "# For handling datasets\n",
    "import pandas as pd\n",
    "\n",
    "# For plotting graphs\n",
    "from matplotlib import pyplot as plt\n",
    "\n",
    "# Import the sklearn libarary for line regression\n",
    "from sklearn.linear_model import LinearRegression"
   ]
  },
  {
   "cell_type": "code",
   "execution_count": 12,
   "metadata": {},
   "outputs": [
    {
     "name": "stdout",
     "output_type": "stream",
     "text": [
      "   Father   Son\n",
      "0    65.0  59.8\n",
      "1    63.3  63.2\n",
      "2    65.0  63.3\n",
      "3    65.8  62.8\n",
      "4    61.1  64.3\n"
     ]
    }
   ],
   "source": [
    "# Import the csv file\n",
    "\n",
    "df = pd.read_csv('FatherSon.csv'\n",
    "                 ,delim_whitespace=True)\n",
    "\n",
    "# Print the top 5 rows\n",
    "print(df.head())"
   ]
  },
  {
   "cell_type": "code",
   "execution_count": 14,
   "metadata": {},
   "outputs": [
    {
     "data": {
      "text/plain": [
       "LinearRegression(copy_X=True, fit_intercept=True, n_jobs=None,\n",
       "         normalize=False)"
      ]
     },
     "execution_count": 14,
     "metadata": {},
     "output_type": "execute_result"
    }
   ],
   "source": [
    "# Prepare the training set\n",
    "x_train = df['Father'].values[:,np.newaxis]\n",
    "y_train = df['Son'].values\n",
    "\n",
    "lm = LinearRegression()\n",
    "\n",
    "# Train the model\n",
    "lm.fit(x_train, y_train)"
   ]
  },
  {
   "cell_type": "code",
   "execution_count": 15,
   "metadata": {},
   "outputs": [
    {
     "name": "stdout",
     "output_type": "stream",
     "text": [
      "[71.31243097 65.2985618  68.53679905 69.9760156  72.75164753 64.83595648\n",
      " 67.45738663 64.32195056]\n"
     ]
    }
   ],
   "source": [
    "# Prepare the test data\n",
    "x_test = [[72.8],[61.1],[67.4],[70.2],\n",
    "           [75.6],[60.2],[65.3],[59.2]]\n",
    "\n",
    "# Test the model\n",
    "predictions = lm.predict(x_test)\n",
    "print(predictions)"
   ]
  },
  {
   "cell_type": "code",
   "execution_count": 18,
   "metadata": {},
   "outputs": [
    {
     "data": {
      "image/png": "[encoded data removed]",
      "text/plain": [
       "<Figure size 432x288 with 1 Axes>"
      ]
     },
     "metadata": {
      "needs_background": "light"
     },
     "output_type": "display_data"
    }
   ],
   "source": [
    "# Plot the training area\n",
    "plt.scatter(x_train, y_train,color='b')\n",
    "\n",
    "# Plot the best fit line using predicted value\n",
    "plt.plot(x_test, predictions,color='black'\n",
    "               ,linewidth=3)\n",
    "plt.xlabel('Father height in inches')\n",
    "plt.ylabel('Son height in inches')\n",
    "plt.show()"
   ]
  },
  {
   "cell_type": "code",
   "execution_count": null,
   "metadata": {},
   "outputs": [],
   "source": []
  }
 ],
 "metadata": {
  "kernelspec": {
   "display_name": "Python 3",
   "language": "python",
   "name": "python3"
  },
  "language_info": {
   "codemirror_mode": {
    "name": "ipython",
    "version": 3
   },
   "file_extension": ".py",
   "mimetype": "text/x-python",
   "name": "python",
   "nbconvert_exporter": "python",
   "pygments_lexer": "ipython3",
   "version": "3.7.1"
  }
 },
 "nbformat": 4,
 "nbformat_minor": 2
}
